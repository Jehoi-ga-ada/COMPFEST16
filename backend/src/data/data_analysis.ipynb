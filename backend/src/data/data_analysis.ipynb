{
 "cells": [
  {
   "cell_type": "code",
   "execution_count": 44,
   "metadata": {},
   "outputs": [],
   "source": [
    "import pandas as pd\n",
    "from pathlib import Path\n",
    "import numpy as np"
   ]
  },
  {
   "cell_type": "code",
   "execution_count": 45,
   "metadata": {},
   "outputs": [
    {
     "data": {
      "text/plain": [
       "PosixPath('../../../frontend/data.json')"
      ]
     },
     "execution_count": 45,
     "metadata": {},
     "output_type": "execute_result"
    }
   ],
   "source": [
    "data_path = Path('../../../frontend/data.json')\n",
    "data_path"
   ]
  },
  {
   "cell_type": "code",
   "execution_count": 46,
   "metadata": {},
   "outputs": [
    {
     "name": "stdout",
     "output_type": "stream",
     "text": [
      "[{'name': 'Artificial Intelligence/Machine Learning (AI/ML) Engineer', 'trendData': [0.3666666666666666, 0.7333333333333333, 0.9, 1.6, 2.1, 0.5333333333333333, 0.7, 1.8333333333333333, 0.5666666666666667], 'trendDates': ['2022-01-02', '2022-02-01', '2022-03-03', '2022-04-02', '2022-05-02', '2022-06-01', '2022-07-01', '2022-07-31', '2022-08-30'], 'prediction': [1.2794697284698486], 'predictionDates': ['2022-09-29'], 'skills': [{'name': 'Python', 'percentage': 86.02}, {'name': 'Machine Learning', 'percentage': 82.15}, {'name': 'Tensorflow', 'percentage': 70.54}, {'name': 'Pytorch', 'percentage': 55.27}, {'name': 'AWS', 'percentage': 35.91}, {'name': 'Deep Learning', 'percentage': 34.84}, {'name': 'Java', 'percentage': 30.54}, {'name': 'Azure', 'percentage': 29.68}, {'name': 'Scala', 'percentage': 26.02}, {'name': 'Data Preparation', 'percentage': 25.81}, {'name': 'Cloud Computing', 'percentage': 23.01}, {'name': 'Spark', 'percentage': 22.8}, {'name': 'Scikitlearn', 'percentage': 22.58}, {'name': 'Numpy', 'percentage': 21.72}, {'name': 'Pandas', 'percentage': 21.51}]}, {'name': 'Business Analyst', 'trendData': [11.866666666666667, 16.3, 25.933333333333334, 28.83333333333333, 29.933333333333334, 27.433333333333334, 24.433333333333334, 35.2, 29.6], 'trendDates': ['2022-01-02', '2022-02-01', '2022-03-03', '2022-04-02', '2022-05-02', '2022-06-01', '2022-07-01', '2022-07-31', '2022-08-30'], 'prediction': [36.485923767089844], 'predictionDates': ['2022-09-29'], 'skills': [{'name': 'AWS', 'percentage': 44.05}, {'name': 'Project Management', 'percentage': 34.77}, {'name': 'Data Analysis', 'percentage': 33.18}, {'name': 'Communication', 'percentage': 30.83}, {'name': 'SQL', 'percentage': 23.76}, {'name': 'Analytical Skills', 'percentage': 20.41}, {'name': 'Requirements Gathering', 'percentage': 17.55}, {'name': 'Problem Solving', 'percentage': 17.43}, {'name': 'Communication Skills', 'percentage': 16.71}, {'name': 'Teamwork', 'percentage': 15.0}, {'name': 'Agile', 'percentage': 14.84}, {'name': 'Business Analyst', 'percentage': 12.32}, {'name': 'Problem-solving', 'percentage': 10.7}, {'name': 'Stakeholder Management', 'percentage': 10.65}, {'name': 'Documentation', 'percentage': 10.61}]}, {'name': 'Cloud Engineer', 'trendData': [4.6, 4.433333333333334, 4.533333333333333, 5.733333333333333, 6.033333333333333, 5.4, 3.8, 5.366666666666666, 6.166666666666667], 'trendDates': ['2022-01-02', '2022-02-01', '2022-03-03', '2022-04-02', '2022-05-02', '2022-06-01', '2022-07-01', '2022-07-31', '2022-08-30'], 'prediction': [6.688518047332764], 'predictionDates': ['2022-09-29'], 'skills': [{'name': 'AWS', 'percentage': 47.91}, {'name': 'Python', 'percentage': 44.87}, {'name': 'Terraform', 'percentage': 39.54}, {'name': 'Azure', 'percentage': 39.16}, {'name': 'Kubernetes', 'percentage': 35.36}, {'name': 'Docker', 'percentage': 27}, {'name': 'Devops', 'percentage': 24.33}, {'name': 'Powershell', 'percentage': 22.81}, {'name': 'Cloud Computing', 'percentage': 21.29}, {'name': 'Linux', 'percentage': 19.39}, {'name': 'Cloud Engineering', 'percentage': 17.87}, {'name': 'Networking', 'percentage': 17.87}, {'name': 'GcP', 'percentage': 17.87}, {'name': 'Java', 'percentage': 17.49}, {'name': 'Jenkins', 'percentage': 16.73}]}, {'name': 'Cybersecurity Analyst', 'trendData': [1.4333333333333331, 2.466666666666667, 2.3, 3.3666666666666667, 2.1, 3.3, 3.633333333333333, 3.6, 3.2333333333333334], 'trendDates': ['2022-01-02', '2022-02-01', '2022-03-03', '2022-04-02', '2022-05-02', '2022-06-01', '2022-07-01', '2022-07-31', '2022-08-30'], 'prediction': [4.186860084533691], 'predictionDates': ['2022-09-29'], 'skills': [{'name': 'Incident Rensponse', 'percentage': 42.39}, {'name': 'Cyber Security', 'percentage': 38.04}, {'name': 'Network Security', 'percentage': 18.48}, {'name': 'Cybersecurity', 'percentage': 17.39}, {'name': 'Information Security', 'percentage': 16.3}, {'name': 'Security Operations', 'percentage': 16.3}, {'name': 'Windows', 'percentage': 14.13}, {'name': 'Penetration Testing', 'percentage': 14.13}, {'name': 'Linux', 'percentage': 14.13}, {'name': 'Threat Hunting', 'percentage': 14.13}, {'name': 'Vulnerability Management', 'percentage': 14.13}, {'name': 'Written Communication', 'percentage': 11.96}, {'name': 'Risk Management', 'percentage': 11.96}, {'name': 'Firewalls', 'percentage': 10.87}, {'name': 'Risk Assesment', 'percentage': 10.87}]}, {'name': 'Data Engineer', 'trendData': [7.566666666666666, 10.733333333333333, 15.766666666666667, 17.333333333333332, 18.266666666666666, 14.233333333333333, 20.23333333333333, 23.766666666666666, 16.266666666666666], 'trendDates': ['2022-01-02', '2022-02-01', '2022-03-03', '2022-04-02', '2022-05-02', '2022-06-01', '2022-07-01', '2022-07-31', '2022-08-30'], 'prediction': [30.368560791015625], 'predictionDates': ['2022-09-29'], 'skills': [{'name': 'Python', 'percentage': 74.33}, {'name': 'SQL', 'percentage': 63.83}, {'name': 'Data Engineering', 'percentage': 51.97}, {'name': 'Spark', 'percentage': 41.47}, {'name': 'Java', 'percentage': 38.22}, {'name': 'AWS', 'percentage': 36.91}, {'name': 'Scala', 'percentage': 36.62}, {'name': 'Snowflake', 'percentage': 35.94}, {'name': 'Data Warehousing', 'percentage': 32.34}, {'name': 'Hadoop', 'percentage': 32.17}, {'name': 'Kafka', 'percentage': 30.69}, {'name': 'Machine Learning', 'percentage': 24.76}, {'name': 'Redshift', 'percentage': 23.96}, {'name': 'Data Modelling', 'percentage': 23.45}, {'name': 'Nosql', 'percentage': 23.33}]}, {'name': 'Data Scientist', 'trendData': [6.033333333333333, 5.8, 11.566666666666666, 10.933333333333334, 15.533333333333331, 15.366666666666667, 13.0, 10.0, 9.4], 'trendDates': ['2022-01-02', '2022-02-01', '2022-03-03', '2022-04-02', '2022-05-02', '2022-06-01', '2022-07-01', '2022-07-31', '2022-08-30'], 'prediction': [6.170605659484863], 'predictionDates': ['2022-09-29'], 'skills': [{'name': 'Python', 'percentage': 84.43}, {'name': 'Machine Learning', 'percentage': 75.4}, {'name': 'Data Science', 'percentage': 68.97}, {'name': 'SQL', 'percentage': 60.32}, {'name': 'R', 'percentage': 49.2}, {'name': 'Data Visualization', 'percentage': 39.18}, {'name': 'Statistics:', 'percentage': 38.07}, {'name': 'Data Analysis', 'percentage': 31.77}, {'name': 'Communication', 'percentage': 25.22}, {'name': 'Data Mining', 'percentage': 22.74}, {'name': 'Spark', 'percentage': 22.62}, {'name': 'Tableau', 'percentage': 22.62}, {'name': 'Computer Science', 'percentage': 18.67}, {'name': 'Tensorflow', 'percentage': 17.8}, {'name': 'AWS', 'percentage': 17.8}]}, {'name': 'Database Administrator (DBA)', 'trendData': [1.4333333333333331, 2.6666666666666665, 3.633333333333333, 3.066666666666667, 3.5, 4.3, 6.933333333333334, 6.633333333333334, 5.2], 'trendDates': ['2022-01-02', '2022-02-01', '2022-03-03', '2022-04-02', '2022-05-02', '2022-06-01', '2022-07-01', '2022-07-31', '2022-08-30'], 'prediction': [7.486966133117676], 'predictionDates': ['2022-09-29'], 'skills': [{'name': 'SQL', 'percentage': 41.77}, {'name': 'Database Administration', 'percentage': 39.56}, {'name': 'SQL Server', 'percentage': 24.68}, {'name': 'Oracle', 'percentage': 24.05}, {'name': 'Performance Tuning', 'percentage': 19.62}, {'name': 'Linux', 'percentage': 18.67}, {'name': 'Disaster Recovery', 'percentage': 17.41}, {'name': 'Database Security', 'percentage': 17.09}, {'name': 'Troubleshooting', 'percentage': 17.09}, {'name': 'Database Design', 'percentage': 15.19}, {'name': 'Data Modeling', 'percentage': 14.56}, {'name': 'AWS', 'percentage': 14.56}, {'name': 'Python', 'percentage': 13.92}, {'name': 'Mysql', 'percentage': 12.97}, {'name': 'Communication Skils', 'percentage': 12.03}]}, {'name': 'DevOps Engineer', 'trendData': [7.9, 6.866666666666666, 11.566666666666666, 13.7, 11.066666666666666, 13.2, 16.133333333333333, 17.166666666666668, 17.466666666666665], 'trendDates': ['2022-01-02', '2022-02-01', '2022-03-03', '2022-04-02', '2022-05-02', '2022-06-01', '2022-07-01', '2022-07-31', '2022-08-30'], 'prediction': [20.090301513671875], 'predictionDates': ['2022-09-29'], 'skills': [{'name': 'Devops', 'percentage': 67.46}, {'name': 'Kubernetes', 'percentage': 63.58}, {'name': 'Python', 'percentage': 62.93}, {'name': 'Terraform', 'percentage': 59.48}, {'name': 'AWS', 'percentage': 48.49}, {'name': 'Docker', 'percentage': 47.41}, {'name': 'Ansible', 'percentage': 46.98}, {'name': 'Jenkins', 'percentage': 42.46}, {'name': 'Bash', 'percentage': 34.48}, {'name': 'Automation', 'percentage': 32.76}, {'name': 'GIT', 'percentage': 31.47}, {'name': 'CI/CD', 'percentage': 27.16}, {'name': 'Linux', 'percentage': 26.29}, {'name': 'Azure', 'percentage': 23.92}, {'name': 'Monitoring', 'percentage': 22.2}]}, {'name': 'IT Consultant', 'trendData': [19.2, 28.166666666666668, 31.53333333333333, 36.1, 34.666666666666664, 39.16666666666666, 34.233333333333334, 38.1, 42.7], 'trendDates': ['2022-01-02', '2022-02-01', '2022-03-03', '2022-04-02', '2022-05-02', '2022-06-01', '2022-07-01', '2022-07-31', '2022-08-30'], 'prediction': [40.619544982910156], 'predictionDates': ['2022-09-29'], 'skills': [{'name': 'Communication', 'percentage': 34.7}, {'name': 'Customer Service', 'percentage': 33.09}, {'name': 'Sales', 'percentage': 31.86}, {'name': 'Communication Skils', 'percentage': 18.16}, {'name': 'Teamwork', 'percentage': 17.52}, {'name': 'Time Management', 'percentage': 14.48}, {'name': 'Problem Solving', 'percentage': 13.89}, {'name': 'Project Management', 'percentage': 12.77}, {'name': 'Problemsolving', 'percentage': 11.24}, {'name': 'Attention To Detail', 'percentage': 10.19}, {'name': 'Leadership', 'percentage': 9.46}, {'name': 'Microsoft Office Suite', 'percentage': 9.4}, {'name': 'Negotiation', 'percentage': 9.31}, {'name': 'Data Analysis', 'percentage': 8.82}, {'name': 'Interpersonal Skills', 'percentage': 7.93}]}, {'name': 'IT Manager', 'trendData': [19.266666666666666, 22.566666666666663, 31.266666666666666, 38.333333333333336, 40.0, 42.53333333333333, 50.63333333333333, 44.6, 41.833333333333336], 'trendDates': ['2022-01-02', '2022-02-01', '2022-03-03', '2022-04-02', '2022-05-02', '2022-06-01', '2022-07-01', '2022-07-31', '2022-08-30'], 'prediction': [60.98004150390625], 'predictionDates': ['2022-09-29'], 'skills': [{'name': 'Communication', 'percentage': 38.74}, {'name': 'Leadership', 'percentage': 33.81}, {'name': 'Accounting', 'percentage': 22.25}, {'name': 'Nursing', 'percentage': 18.37}, {'name': 'Teamwork', 'percentage': 18.06}, {'name': 'Project Management', 'percentage': 17.98}, {'name': 'Audit', 'percentage': 14.31}, {'name': 'Problem Solving', 'percentage': 14.18}, {'name': 'Risk Management', 'percentage': 13.7}, {'name': 'Auditing', 'percentage': 13.66}, {'name': 'Communication Skills', 'percentage': 13.48}, {'name': 'Problemsolving', 'percentage': 12.78}, {'name': 'Analytical Skills', 'percentage': 12.22}, {'name': 'Time Management', 'percentage': 11.21}, {'name': 'Attention To Detail', 'percentage': 11.17}]}, {'name': 'IT Project Manager', 'trendData': [8.866666666666667, 12.566666666666666, 15.033333333333331, 16.6, 17.133333333333333, 16.233333333333334, 18.866666666666667, 21.066666666666663, 22.1], 'trendDates': ['2022-01-02', '2022-02-01', '2022-03-03', '2022-04-02', '2022-05-02', '2022-06-01', '2022-07-01', '2022-07-31', '2022-08-30'], 'prediction': [23.262521743774414], 'predictionDates': ['2022-09-29'], 'skills': [{'name': 'Project Management', 'percentage': 66.07}, {'name': 'Risk Management', 'percentage': 39.29}, {'name': 'Communication', 'percentage': 35.2}, {'name': 'Leadership', 'percentage': 23.98}, {'name': 'It Project Management', 'percentage': 22.96}, {'name': 'Stakeholder Management', 'percentage': 20.15}, {'name': 'Problem Solving', 'percentage': 18.37}, {'name': 'Project Planning', 'percentage': 17.86}, {'name': 'Change Management', 'percentage': 17.6}, {'name': 'PMP Cerification', 'percentage': 17.09}, {'name': 'Communication Skills', 'percentage': 17.09}, {'name': 'Agile', 'percentage': 16.84}, {'name': \"Bachelor's Degree\", 'percentage': 15.31}, {'name': 'Analytical Skills', 'percentage': 15.31}, {'name': 'Time Management', 'percentage': 14.54}]}, {'name': 'IT Support Specialist', 'trendData': [5.8, 9.8, 10.633333333333333, 10.666666666666666, 8.6, 10.366666666666667, 11.733333333333333, 10.8, 12.733333333333333], 'trendDates': ['2022-01-02', '2022-02-01', '2022-03-03', '2022-04-02', '2022-05-02', '2022-06-01', '2022-07-01', '2022-07-31', '2022-08-30'], 'prediction': [9.61509895324707], 'predictionDates': ['2022-09-29'], 'skills': [{'name': 'Troubleshooting', 'percentage': 55.7}, {'name': 'It Support', 'percentage': 50.63}, {'name': 'Customer Service', 'percentage': 34.18}, {'name': 'Problemsolving', 'percentage': 32.91}, {'name': 'Active Directory', 'percentage': 30.38}, {'name': 'Communication', 'percentage': 20.11}, {'name': 'Communication Skills', 'percentage': 26.58}, {'name': 'Technical Support', 'percentage': 25.32}, {'name': 'Teamwork', 'percentage': 22.78}, {'name': 'Windows', 'percentage': 21.52}, {'name': 'Microsoft 365', 'percentage': 16.46}, {'name': 'Computer Science', 'percentage': 16.46}, {'name': 'Analytical Skills', 'percentage': 15.19}, {'name': 'Azure', 'percentage': 15.19}]}, {'name': 'Information Security Manager', 'trendData': [4.6, 6.866666666666666, 8.533333333333333, 7.866666666666666, 7.3, 9.033333333333331, 8.0, 9.833333333333334, 8.766666666666667], 'trendDates': ['2022-01-02', '2022-02-01', '2022-03-03', '2022-04-02', '2022-05-02', '2022-06-01', '2022-07-01', '2022-07-31', '2022-08-30'], 'prediction': [10.247178077697754], 'predictionDates': ['2022-09-29'], 'skills': [{'name': 'Risk Management Framework (rmf)', 'percentage': 33.9}, {'name': 'Cybersecurity', 'percentage': 30.51}, {'name': 'Cyber Security', 'percentage': 18.64}, {'name': 'Incident Rensponse', 'percentage': 18.64}, {'name': 'Information Security', 'percentage': 16.95}, {'name': 'Risk Management', 'percentage': 16.95}, {'name': 'RMF', 'percentage': 16.95}, {'name': 'Information Systems', 'percentage': 13.56}, {'name': 'DOD Directive 8570.01m', 'percentage': 11.86}, {'name': 'System Security Plans', 'percentage': 11.86}, {'name': 'Information Security Security', 'percentage': 11.86}, {'name': 'Joint Special Access Program Implementation', 'percentage': 11.86}, {'name': 'Network Security', 'percentage': 11.86}, {'name': 'Configuration Management (cm)', 'percentage': 11.86}, {'name': 'Risk Management Framework', 'percentage': 11.86}]}, {'name': 'Network Administrator', 'trendData': [4.2, 5.133333333333334, 7.433333333333334, 7.966666666666667, 8.633333333333333, 10.0, 8.3, 9.266666666666667, 7.566666666666666], 'trendDates': ['2022-01-02', '2022-02-01', '2022-03-03', '2022-04-02', '2022-05-02', '2022-06-01', '2022-07-01', '2022-07-31', '2022-08-30'], 'prediction': [7.6337714195251465], 'predictionDates': ['2022-09-29'], 'skills': [{'name': 'Network Administration', 'percentage': 58.12}, {'name': 'Troubleshooting', 'percentage': 25.9}, {'name': 'Network Security', 'percentage': 32.48}, {'name': 'Network Troubleshooting', 'percentage': 20.51}, {'name': 'Firewalls', 'percentage': 19.66}, {'name': 'Ccna', 'percentage': 19.66}, {'name': 'Active Directory', 'percentage': 18.8}, {'name': 'Communication Skills', 'percentage': 17.09}, {'name': 'Project Management', 'percentage': 15.38}, {'name': 'Cisco', 'percentage': 15.38}, {'name': 'Network Monitoring', 'percentage': 14.53}, {'name': 'Routers', 'percentage': 14.53}, {'name': 'Communication', 'percentage': 14.53}, {'name': 'Vmware', 'percentage': 13.68}, {'name': 'BGP', 'percentage': 13.68}]}, {'name': 'Quality Assurance (QA) Tester/Engineer', 'trendData': [7.333333333333333, 9.066666666666666, 12.766666666666667, 18.5, 9.933333333333334, 11.033333333333331, 16.133333333333333, 15.266666666666667, 14.066666666666666], 'trendDates': ['2022-01-02', '2022-02-01', '2022-03-03', '2022-04-02', '2022-05-02', '2022-06-01', '2022-07-01', '2022-07-31', '2022-08-30'], 'prediction': [16.741851806640625], 'predictionDates': ['2022-09-29'], 'skills': [{'name': 'Test Cases', 'percentage': 37.14}, {'name': 'Teamwork', 'percentage': 28.57}, {'name': 'IOS', 'percentage': 28.57}, {'name': 'Proofreading', 'percentage': 27.14}, {'name': 'Test Scripts', 'percentage': 27.14}, {'name': 'Translation', 'percentage': 25.71}, {'name': 'MAC 0S X', 'percentage': 25.71}, {'name': 'BUG Tracking Systems', 'percentage': 24.29}, {'name': 'Problemsolving', 'percentage': 21.43}, {'name': 'Jira', 'percentage': 20}, {'name': 'QA Testing', 'percentage': 18.57}, {'name': 'SQL', 'percentage': 18.57}, {'name': 'Linguistic Skills', 'percentage': 17.14}, {'name': 'Fastpaced Environment', 'percentage': 17.14}, {'name': 'Quality Assurance:', 'percentage': 15.71}]}, {'name': 'Software Developer/Engineer', 'trendData': [44.46666666666667, 53.03333333333333, 75.43333333333334, 86.53333333333333, 76.6, 85.6, 91.36666666666666, 84.56666666666666, 75.3], 'trendDates': ['2022-01-02', '2022-02-01', '2022-03-03', '2022-04-02', '2022-05-02', '2022-06-01', '2022-07-01', '2022-07-31', '2022-08-30'], 'prediction': [83.36360168457031], 'predictionDates': ['2022-09-29'], 'skills': [{'name': 'Python', 'percentage': 42.69}, {'name': 'Java', 'percentage': 42.48}, {'name': 'Software Engineering', 'percentage': 37.22}, {'name': 'AWS', 'percentage': 33.29}, {'name': 'SQL', 'percentage': 27.77}, {'name': 'Kubernetes', 'percentage': 24.99}, {'name': 'Docker', 'percentage': 24.67}, {'name': 'Javascript', 'percentage': 24.34}, {'name': 'Software Development', 'percentage': 21.31}, {'name': 'Agile.', 'percentage': 21.3}, {'name': 'C++', 'percentage': 18.96}, {'name': 'Go', 'percentage': 17.59}, {'name': 'Typescript', 'percentage': 15.99}, {'name': 'Communication', 'percentage': 15.3}, {'name': 'Cloud Computing', 'percentage': 15.23}]}, {'name': 'Systems Analyst', 'trendData': [4.533333333333333, 4.866666666666666, 5.766666666666667, 8.333333333333334, 8.066666666666666, 7.733333333333333, 7.8, 7.533333333333333, 8.433333333333334], 'trendDates': ['2022-01-02', '2022-02-01', '2022-03-03', '2022-04-02', '2022-05-02', '2022-06-01', '2022-07-01', '2022-07-31', '2022-08-30'], 'prediction': [7.806430816650391], 'predictionDates': ['2022-09-29'], 'skills': [{'name': 'Project Management', 'percentage': 32.73}, {'name': 'Communication', 'percentage': 24.42}, {'name': 'SQL', 'percentage': 23.62}, {'name': 'Data Analysis', 'percentage': 21.56}, {'name': 'Communication Skills', 'percentage': 17.83}, {'name': 'Problem Solving', 'percentage': 17.23}, {'name': 'Troubleshooting', 'percentage': 16.77}, {'name': 'Analytical Skills', 'percentage': 16.7}, {'name': 'Business Analysis', 'percentage': 14.5}, {'name': \"Bachelor's Degree\", 'percentage': 12.44}, {'name': 'Teamwork', 'percentage': 12.04}, {'name': 'Requirements Gathering', 'percentage': 11.98}, {'name': 'Interpersonal Skills', 'percentage': 11.84}, {'name': 'Problemsolving', 'percentage': 11.58}, {'name': 'Business Systems Analysis', 'percentage': 10.18}]}, {'name': 'Systems Architect', 'trendData': [4.366666666666666, 6.5, 8.266666666666667, 10.1, 11.366666666666667, 12.2, 12.033333333333331, 8.766666666666667, 11.9], 'trendDates': ['2022-01-02', '2022-02-01', '2022-03-03', '2022-04-02', '2022-05-02', '2022-06-01', '2022-07-01', '2022-07-31', '2022-08-30'], 'prediction': [5.952944278717041], 'predictionDates': ['2022-09-29'], 'skills': [{'name': 'Systems Architecture', 'percentage': 19.58}, {'name': 'Systems Engineering', 'percentage': 18.52}, {'name': 'Python', 'percentage': 13.76}, {'name': 'Project Management', 'percentage': 12.7}, {'name': 'Computer Science', 'percentage': 11.64}, {'name': 'Software Development', 'percentage': 11.64}, {'name': 'Engineering', 'percentage': 10.58}, {'name': 'Communication', 'percentage': 10.58}, {'name': \"Bachelor's Degree\", 'percentage': 10.58}, {'name': 'System Architecture', 'percentage': 10.58}, {'name': 'Linux', 'percentage': 10.05}, {'name': 'Communication Skills', 'percentage': 10.05}, {'name': 'Analytical Skills', 'percentage': 10.05}, {'name': 'Software Engineering', 'percentage': 9.52}, {'name': 'Java', 'percentage': 9.52}]}, {'name': 'Technical Support Engineer', 'trendData': [19.1, 20.866666666666667, 32.333333333333336, 30.33333333333333, 28.766666666666666, 29.133333333333333, 41.4, 42.766666666666666, 42.5], 'trendDates': ['2022-01-02', '2022-02-01', '2022-03-03', '2022-04-02', '2022-05-02', '2022-06-01', '2022-07-01', '2022-07-31', '2022-08-30'], 'prediction': [50.38508987426758], 'predictionDates': ['2022-09-29'], 'skills': [{'name': 'Troubleshooting', 'percentage': 56.25}, {'name': 'Technical Support', 'percentage': 42.19}, {'name': 'Communication', 'percentage': 28.13}, {'name': 'Customer Service', 'percentage': 23.44}, {'name': 'Linux', 'percentage': 23.44}, {'name': 'Problem Solving', 'percentage': 20.31}, {'name': 'Networking', 'percentage': 18.75}, {'name': 'Communication Skills', 'percentage': 18.75}, {'name': 'Problemsolving', 'percentage': 18.75}, {'name': 'Teamwork', 'percentage': 17.19}, {'name': 'AWS', 'percentage': 14.06}, {'name': 'Project Management', 'percentage': 14.06}, {'name': 'SQL', 'percentage': 14.06}, {'name': 'Analytical Skills', 'percentage': 14.06}, {'name': 'Root Cause Analysis', 'percentage': 12.5}]}, {'name': 'Web Developer', 'trendData': [35.1, 40.96666666666667, 55.333333333333336, 58.1, 47.1, 61.5, 60.9, 66.1, 63.766666666666666], 'trendDates': ['2022-01-02', '2022-02-01', '2022-03-03', '2022-04-02', '2022-05-02', '2022-06-01', '2022-07-01', '2022-07-31', '2022-08-30'], 'prediction': [73.35589599609375], 'predictionDates': ['2022-09-29'], 'skills': [{'name': 'Javascript', 'percentage': 63.5}, {'name': 'CSS', 'percentage': 44.0}, {'name': 'Html', 'percentage': 41.5}, {'name': 'WEB Development', 'percentage': 35.5}, {'name': 'PHP', 'percentage': 26.5}, {'name': 'SQL', 'percentage': 22.0}, {'name': 'GIt', 'percentage': 22.0}, {'name': 'React', 'percentage': 19.5}, {'name': 'Communication', 'percentage': 19.5}, {'name': 'Html5', 'percentage': 17.0}, {'name': 'C#', 'percentage': 16.5}, {'name': 'Java', 'percentage': 16.0}, {'name': 'Angular', 'percentage': 15.0}, {'name': 'AWS', 'percentage': 14.5}]}]\n"
     ]
    }
   ],
   "source": [
    "import json\n",
    "\n",
    "with open(data_path, 'r') as f:\n",
    "    data = json.load(f)\n",
    "\n",
    "print(data['jobs'])"
   ]
  },
  {
   "cell_type": "code",
   "execution_count": 47,
   "metadata": {},
   "outputs": [],
   "source": [
    "df = pd.DataFrame(data['jobs'])"
   ]
  },
  {
   "cell_type": "code",
   "execution_count": 48,
   "metadata": {},
   "outputs": [
    {
     "data": {
      "text/html": [
       "<div>\n",
       "<style scoped>\n",
       "    .dataframe tbody tr th:only-of-type {\n",
       "        vertical-align: middle;\n",
       "    }\n",
       "\n",
       "    .dataframe tbody tr th {\n",
       "        vertical-align: top;\n",
       "    }\n",
       "\n",
       "    .dataframe thead th {\n",
       "        text-align: right;\n",
       "    }\n",
       "</style>\n",
       "<table border=\"1\" class=\"dataframe\">\n",
       "  <thead>\n",
       "    <tr style=\"text-align: right;\">\n",
       "      <th></th>\n",
       "      <th>name</th>\n",
       "      <th>trendData</th>\n",
       "      <th>trendDates</th>\n",
       "      <th>prediction</th>\n",
       "      <th>predictionDates</th>\n",
       "      <th>skills</th>\n",
       "    </tr>\n",
       "  </thead>\n",
       "  <tbody>\n",
       "    <tr>\n",
       "      <th>0</th>\n",
       "      <td>Artificial Intelligence/Machine Learning (AI/M...</td>\n",
       "      <td>[0.3666666666666666, 0.7333333333333333, 0.9, ...</td>\n",
       "      <td>[2022-01-02, 2022-02-01, 2022-03-03, 2022-04-0...</td>\n",
       "      <td>[1.2794697284698486]</td>\n",
       "      <td>[2022-09-29]</td>\n",
       "      <td>[{'name': 'Python', 'percentage': 86.02}, {'na...</td>\n",
       "    </tr>\n",
       "    <tr>\n",
       "      <th>1</th>\n",
       "      <td>Business Analyst</td>\n",
       "      <td>[11.866666666666667, 16.3, 25.933333333333334,...</td>\n",
       "      <td>[2022-01-02, 2022-02-01, 2022-03-03, 2022-04-0...</td>\n",
       "      <td>[36.485923767089844]</td>\n",
       "      <td>[2022-09-29]</td>\n",
       "      <td>[{'name': 'AWS', 'percentage': 44.05}, {'name'...</td>\n",
       "    </tr>\n",
       "    <tr>\n",
       "      <th>2</th>\n",
       "      <td>Cloud Engineer</td>\n",
       "      <td>[4.6, 4.433333333333334, 4.533333333333333, 5....</td>\n",
       "      <td>[2022-01-02, 2022-02-01, 2022-03-03, 2022-04-0...</td>\n",
       "      <td>[6.688518047332764]</td>\n",
       "      <td>[2022-09-29]</td>\n",
       "      <td>[{'name': 'AWS', 'percentage': 47.91}, {'name'...</td>\n",
       "    </tr>\n",
       "  </tbody>\n",
       "</table>\n",
       "</div>"
      ],
      "text/plain": [
       "                                                name  \\\n",
       "0  Artificial Intelligence/Machine Learning (AI/M...   \n",
       "1                                   Business Analyst   \n",
       "2                                     Cloud Engineer   \n",
       "\n",
       "                                           trendData  \\\n",
       "0  [0.3666666666666666, 0.7333333333333333, 0.9, ...   \n",
       "1  [11.866666666666667, 16.3, 25.933333333333334,...   \n",
       "2  [4.6, 4.433333333333334, 4.533333333333333, 5....   \n",
       "\n",
       "                                          trendDates            prediction  \\\n",
       "0  [2022-01-02, 2022-02-01, 2022-03-03, 2022-04-0...  [1.2794697284698486]   \n",
       "1  [2022-01-02, 2022-02-01, 2022-03-03, 2022-04-0...  [36.485923767089844]   \n",
       "2  [2022-01-02, 2022-02-01, 2022-03-03, 2022-04-0...   [6.688518047332764]   \n",
       "\n",
       "  predictionDates                                             skills  \n",
       "0    [2022-09-29]  [{'name': 'Python', 'percentage': 86.02}, {'na...  \n",
       "1    [2022-09-29]  [{'name': 'AWS', 'percentage': 44.05}, {'name'...  \n",
       "2    [2022-09-29]  [{'name': 'AWS', 'percentage': 47.91}, {'name'...  "
      ]
     },
     "execution_count": 48,
     "metadata": {},
     "output_type": "execute_result"
    }
   ],
   "source": [
    "df.head(3)"
   ]
  },
  {
   "cell_type": "code",
   "execution_count": 49,
   "metadata": {},
   "outputs": [
    {
     "name": "stdout",
     "output_type": "stream",
     "text": [
      "[100, 23, 78, 31, -75, 31, 162, -69]\n"
     ]
    }
   ],
   "source": [
    "def calculate_growth_percentage(trend_data):\n",
    "    \"\"\"\n",
    "    Calculate the monthly growth percentage based on the trend data.\n",
    "\n",
    "    :param trend_data: List of trend values (e.g., job trends over months)\n",
    "    :return: List of growth percentages for each month\n",
    "    \"\"\"\n",
    "    if len(trend_data) < 2:\n",
    "        return []  # Not enough data to calculate growth\n",
    "    \n",
    "    growth_percentages = []\n",
    "    for i in range(1, len(trend_data)):\n",
    "        previous_value = trend_data[i - 1]\n",
    "        current_value = trend_data[i]\n",
    "        growth_percentage = ((current_value - previous_value) / previous_value) * 100\n",
    "        growth_percentages.append(round(growth_percentage))\n",
    "    \n",
    "    return growth_percentages\n",
    "\n",
    "# Example usage with AI/ML Engineer trendData\n",
    "ai_ml_trend_data = [0.3666666666666666, 0.7333333333333333, 0.9, 1.6, 2.1, 0.5333333333333333, 0.7, 1.8333333333333333, 0.5666666666666667]\n",
    "growth_percentages = calculate_growth_percentage(ai_ml_trend_data)\n",
    "print(growth_percentages)"
   ]
  },
  {
   "cell_type": "code",
   "execution_count": 50,
   "metadata": {},
   "outputs": [],
   "source": [
    "df['monthly_growth (%)'] = df['trendData'].apply(calculate_growth_percentage)"
   ]
  },
  {
   "cell_type": "code",
   "execution_count": 52,
   "metadata": {},
   "outputs": [],
   "source": [
    "df['avg_monthly_growth (%)'] = df['monthly_growth (%)'].apply(lambda x: np.mean(x))"
   ]
  },
  {
   "cell_type": "code",
   "execution_count": 53,
   "metadata": {},
   "outputs": [],
   "source": [
    "df['growth_dates'] =df['trendDates'].apply(lambda x: x[1:])"
   ]
  },
  {
   "cell_type": "code",
   "execution_count": 54,
   "metadata": {},
   "outputs": [],
   "source": [
    "def get_last_value(trend_data):\n",
    "    return trend_data[-1]\n",
    "\n",
    "df['expected_growth (%)'] = ((df['prediction'].apply(get_last_value) - df['trendData'].apply(get_last_value))/df['trendData'].apply(get_last_value))*100"
   ]
  },
  {
   "cell_type": "code",
   "execution_count": 55,
   "metadata": {},
   "outputs": [
    {
     "data": {
      "text/html": [
       "<div>\n",
       "<style scoped>\n",
       "    .dataframe tbody tr th:only-of-type {\n",
       "        vertical-align: middle;\n",
       "    }\n",
       "\n",
       "    .dataframe tbody tr th {\n",
       "        vertical-align: top;\n",
       "    }\n",
       "\n",
       "    .dataframe thead th {\n",
       "        text-align: right;\n",
       "    }\n",
       "</style>\n",
       "<table border=\"1\" class=\"dataframe\">\n",
       "  <thead>\n",
       "    <tr style=\"text-align: right;\">\n",
       "      <th></th>\n",
       "      <th>name</th>\n",
       "      <th>trendData</th>\n",
       "      <th>trendDates</th>\n",
       "      <th>prediction</th>\n",
       "      <th>predictionDates</th>\n",
       "      <th>skills</th>\n",
       "      <th>monthly_growth (%)</th>\n",
       "      <th>avg_monthly_growth (%)</th>\n",
       "      <th>growth_dates</th>\n",
       "      <th>expected_growth (%)</th>\n",
       "    </tr>\n",
       "  </thead>\n",
       "  <tbody>\n",
       "    <tr>\n",
       "      <th>0</th>\n",
       "      <td>Artificial Intelligence/Machine Learning (AI/M...</td>\n",
       "      <td>[0.3666666666666666, 0.7333333333333333, 0.9, ...</td>\n",
       "      <td>[2022-01-02, 2022-02-01, 2022-03-03, 2022-04-0...</td>\n",
       "      <td>[1.2794697284698486]</td>\n",
       "      <td>[2022-09-29]</td>\n",
       "      <td>[{'name': 'Python', 'percentage': 86.02}, {'na...</td>\n",
       "      <td>[100, 23, 78, 31, -75, 31, 162, -69]</td>\n",
       "      <td>35.125</td>\n",
       "      <td>[2022-02-01, 2022-03-03, 2022-04-02, 2022-05-0...</td>\n",
       "      <td>125.788776</td>\n",
       "    </tr>\n",
       "    <tr>\n",
       "      <th>1</th>\n",
       "      <td>Business Analyst</td>\n",
       "      <td>[11.866666666666667, 16.3, 25.933333333333334,...</td>\n",
       "      <td>[2022-01-02, 2022-02-01, 2022-03-03, 2022-04-0...</td>\n",
       "      <td>[36.485923767089844]</td>\n",
       "      <td>[2022-09-29]</td>\n",
       "      <td>[{'name': 'AWS', 'percentage': 44.05}, {'name'...</td>\n",
       "      <td>[37, 59, 11, 4, -8, -11, 44, -16]</td>\n",
       "      <td>15.000</td>\n",
       "      <td>[2022-02-01, 2022-03-03, 2022-04-02, 2022-05-0...</td>\n",
       "      <td>23.263256</td>\n",
       "    </tr>\n",
       "    <tr>\n",
       "      <th>2</th>\n",
       "      <td>Cloud Engineer</td>\n",
       "      <td>[4.6, 4.433333333333334, 4.533333333333333, 5....</td>\n",
       "      <td>[2022-01-02, 2022-02-01, 2022-03-03, 2022-04-0...</td>\n",
       "      <td>[6.688518047332764]</td>\n",
       "      <td>[2022-09-29]</td>\n",
       "      <td>[{'name': 'AWS', 'percentage': 47.91}, {'name'...</td>\n",
       "      <td>[-4, 2, 26, 5, -10, -30, 41, 15]</td>\n",
       "      <td>5.625</td>\n",
       "      <td>[2022-02-01, 2022-03-03, 2022-04-02, 2022-05-0...</td>\n",
       "      <td>8.462455</td>\n",
       "    </tr>\n",
       "    <tr>\n",
       "      <th>3</th>\n",
       "      <td>Cybersecurity Analyst</td>\n",
       "      <td>[1.4333333333333331, 2.466666666666667, 2.3, 3...</td>\n",
       "      <td>[2022-01-02, 2022-02-01, 2022-03-03, 2022-04-0...</td>\n",
       "      <td>[4.186860084533691]</td>\n",
       "      <td>[2022-09-29]</td>\n",
       "      <td>[{'name': 'Incident Rensponse', 'percentage': ...</td>\n",
       "      <td>[72, -7, 46, -38, 57, 10, -1, -10]</td>\n",
       "      <td>16.125</td>\n",
       "      <td>[2022-02-01, 2022-03-03, 2022-04-02, 2022-05-0...</td>\n",
       "      <td>29.490518</td>\n",
       "    </tr>\n",
       "    <tr>\n",
       "      <th>4</th>\n",
       "      <td>Data Engineer</td>\n",
       "      <td>[7.566666666666666, 10.733333333333333, 15.766...</td>\n",
       "      <td>[2022-01-02, 2022-02-01, 2022-03-03, 2022-04-0...</td>\n",
       "      <td>[30.368560791015625]</td>\n",
       "      <td>[2022-09-29]</td>\n",
       "      <td>[{'name': 'Python', 'percentage': 74.33}, {'na...</td>\n",
       "      <td>[42, 47, 10, 5, -22, 42, 17, -32]</td>\n",
       "      <td>13.625</td>\n",
       "      <td>[2022-02-01, 2022-03-03, 2022-04-02, 2022-05-0...</td>\n",
       "      <td>86.691972</td>\n",
       "    </tr>\n",
       "  </tbody>\n",
       "</table>\n",
       "</div>"
      ],
      "text/plain": [
       "                                                name  \\\n",
       "0  Artificial Intelligence/Machine Learning (AI/M...   \n",
       "1                                   Business Analyst   \n",
       "2                                     Cloud Engineer   \n",
       "3                              Cybersecurity Analyst   \n",
       "4                                      Data Engineer   \n",
       "\n",
       "                                           trendData  \\\n",
       "0  [0.3666666666666666, 0.7333333333333333, 0.9, ...   \n",
       "1  [11.866666666666667, 16.3, 25.933333333333334,...   \n",
       "2  [4.6, 4.433333333333334, 4.533333333333333, 5....   \n",
       "3  [1.4333333333333331, 2.466666666666667, 2.3, 3...   \n",
       "4  [7.566666666666666, 10.733333333333333, 15.766...   \n",
       "\n",
       "                                          trendDates            prediction  \\\n",
       "0  [2022-01-02, 2022-02-01, 2022-03-03, 2022-04-0...  [1.2794697284698486]   \n",
       "1  [2022-01-02, 2022-02-01, 2022-03-03, 2022-04-0...  [36.485923767089844]   \n",
       "2  [2022-01-02, 2022-02-01, 2022-03-03, 2022-04-0...   [6.688518047332764]   \n",
       "3  [2022-01-02, 2022-02-01, 2022-03-03, 2022-04-0...   [4.186860084533691]   \n",
       "4  [2022-01-02, 2022-02-01, 2022-03-03, 2022-04-0...  [30.368560791015625]   \n",
       "\n",
       "  predictionDates                                             skills  \\\n",
       "0    [2022-09-29]  [{'name': 'Python', 'percentage': 86.02}, {'na...   \n",
       "1    [2022-09-29]  [{'name': 'AWS', 'percentage': 44.05}, {'name'...   \n",
       "2    [2022-09-29]  [{'name': 'AWS', 'percentage': 47.91}, {'name'...   \n",
       "3    [2022-09-29]  [{'name': 'Incident Rensponse', 'percentage': ...   \n",
       "4    [2022-09-29]  [{'name': 'Python', 'percentage': 74.33}, {'na...   \n",
       "\n",
       "                     monthly_growth (%)  avg_monthly_growth (%)  \\\n",
       "0  [100, 23, 78, 31, -75, 31, 162, -69]                  35.125   \n",
       "1     [37, 59, 11, 4, -8, -11, 44, -16]                  15.000   \n",
       "2      [-4, 2, 26, 5, -10, -30, 41, 15]                   5.625   \n",
       "3    [72, -7, 46, -38, 57, 10, -1, -10]                  16.125   \n",
       "4     [42, 47, 10, 5, -22, 42, 17, -32]                  13.625   \n",
       "\n",
       "                                        growth_dates  expected_growth (%)  \n",
       "0  [2022-02-01, 2022-03-03, 2022-04-02, 2022-05-0...           125.788776  \n",
       "1  [2022-02-01, 2022-03-03, 2022-04-02, 2022-05-0...            23.263256  \n",
       "2  [2022-02-01, 2022-03-03, 2022-04-02, 2022-05-0...             8.462455  \n",
       "3  [2022-02-01, 2022-03-03, 2022-04-02, 2022-05-0...            29.490518  \n",
       "4  [2022-02-01, 2022-03-03, 2022-04-02, 2022-05-0...            86.691972  "
      ]
     },
     "execution_count": 55,
     "metadata": {},
     "output_type": "execute_result"
    }
   ],
   "source": [
    "df.head()"
   ]
  },
  {
   "cell_type": "code",
   "execution_count": 64,
   "metadata": {},
   "outputs": [],
   "source": [
    "df.to_json(data_path, index=False, indent=True, orient='records')"
   ]
  },
  {
   "cell_type": "code",
   "execution_count": 58,
   "metadata": {},
   "outputs": [
    {
     "data": {
      "text/plain": [
       "{'jobs': '{\"name\":{\"0\":\"Artificial Intelligence\\\\/Machine Learning (AI\\\\/ML) Engineer\",\"1\":\"Business Analyst\",\"2\":\"Cloud Engineer\",\"3\":\"Cybersecurity Analyst\",\"4\":\"Data Engineer\",\"5\":\"Data Scientist\",\"6\":\"Database Administrator (DBA)\",\"7\":\"DevOps Engineer\",\"8\":\"IT Consultant\",\"9\":\"IT Manager\",\"10\":\"IT Project Manager\",\"11\":\"IT Support Specialist\",\"12\":\"Information Security Manager\",\"13\":\"Network Administrator\",\"14\":\"Quality Assurance (QA) Tester\\\\/Engineer\",\"15\":\"Software Developer\\\\/Engineer\",\"16\":\"Systems Analyst\",\"17\":\"Systems Architect\",\"18\":\"Technical Support Engineer\",\"19\":\"Web Developer\"},\"trendData\":{\"0\":[0.3666666667,0.7333333333,0.9,1.6,2.1,0.5333333333,0.7,1.8333333333,0.5666666667],\"1\":[11.8666666667,16.3,25.9333333333,28.8333333333,29.9333333333,27.4333333333,24.4333333333,35.2,29.6],\"2\":[4.6,4.4333333333,4.5333333333,5.7333333333,6.0333333333,5.4,3.8,5.3666666667,6.1666666667],\"3\":[1.4333333333,2.4666666667,2.3,3.3666666667,2.1,3.3,3.6333333333,3.6,3.2333333333],\"4\":[7.5666666667,10.7333333333,15.7666666667,17.3333333333,18.2666666667,14.2333333333,20.2333333333,23.7666666667,16.2666666667],\"5\":[6.0333333333,5.8,11.5666666667,10.9333333333,15.5333333333,15.3666666667,13.0,10.0,9.4],\"6\":[1.4333333333,2.6666666667,3.6333333333,3.0666666667,3.5,4.3,6.9333333333,6.6333333333,5.2],\"7\":[7.9,6.8666666667,11.5666666667,13.7,11.0666666667,13.2,16.1333333333,17.1666666667,17.4666666667],\"8\":[19.2,28.1666666667,31.5333333333,36.1,34.6666666667,39.1666666667,34.2333333333,38.1,42.7],\"9\":[19.2666666667,22.5666666667,31.2666666667,38.3333333333,40.0,42.5333333333,50.6333333333,44.6,41.8333333333],\"10\":[8.8666666667,12.5666666667,15.0333333333,16.6,17.1333333333,16.2333333333,18.8666666667,21.0666666667,22.1],\"11\":[5.8,9.8,10.6333333333,10.6666666667,8.6,10.3666666667,11.7333333333,10.8,12.7333333333],\"12\":[4.6,6.8666666667,8.5333333333,7.8666666667,7.3,9.0333333333,8.0,9.8333333333,8.7666666667],\"13\":[4.2,5.1333333333,7.4333333333,7.9666666667,8.6333333333,10.0,8.3,9.2666666667,7.5666666667],\"14\":[7.3333333333,9.0666666667,12.7666666667,18.5,9.9333333333,11.0333333333,16.1333333333,15.2666666667,14.0666666667],\"15\":[44.4666666667,53.0333333333,75.4333333333,86.5333333333,76.6,85.6,91.3666666667,84.5666666667,75.3],\"16\":[4.5333333333,4.8666666667,5.7666666667,8.3333333333,8.0666666667,7.7333333333,7.8,7.5333333333,8.4333333333],\"17\":[4.3666666667,6.5,8.2666666667,10.1,11.3666666667,12.2,12.0333333333,8.7666666667,11.9],\"18\":[19.1,20.8666666667,32.3333333333,30.3333333333,28.7666666667,29.1333333333,41.4,42.7666666667,42.5],\"19\":[35.1,40.9666666667,55.3333333333,58.1,47.1,61.5,60.9,66.1,63.7666666667]},\"trendDates\":{\"0\":[\"2022-01-02\",\"2022-02-01\",\"2022-03-03\",\"2022-04-02\",\"2022-05-02\",\"2022-06-01\",\"2022-07-01\",\"2022-07-31\",\"2022-08-30\"],\"1\":[\"2022-01-02\",\"2022-02-01\",\"2022-03-03\",\"2022-04-02\",\"2022-05-02\",\"2022-06-01\",\"2022-07-01\",\"2022-07-31\",\"2022-08-30\"],\"2\":[\"2022-01-02\",\"2022-02-01\",\"2022-03-03\",\"2022-04-02\",\"2022-05-02\",\"2022-06-01\",\"2022-07-01\",\"2022-07-31\",\"2022-08-30\"],\"3\":[\"2022-01-02\",\"2022-02-01\",\"2022-03-03\",\"2022-04-02\",\"2022-05-02\",\"2022-06-01\",\"2022-07-01\",\"2022-07-31\",\"2022-08-30\"],\"4\":[\"2022-01-02\",\"2022-02-01\",\"2022-03-03\",\"2022-04-02\",\"2022-05-02\",\"2022-06-01\",\"2022-07-01\",\"2022-07-31\",\"2022-08-30\"],\"5\":[\"2022-01-02\",\"2022-02-01\",\"2022-03-03\",\"2022-04-02\",\"2022-05-02\",\"2022-06-01\",\"2022-07-01\",\"2022-07-31\",\"2022-08-30\"],\"6\":[\"2022-01-02\",\"2022-02-01\",\"2022-03-03\",\"2022-04-02\",\"2022-05-02\",\"2022-06-01\",\"2022-07-01\",\"2022-07-31\",\"2022-08-30\"],\"7\":[\"2022-01-02\",\"2022-02-01\",\"2022-03-03\",\"2022-04-02\",\"2022-05-02\",\"2022-06-01\",\"2022-07-01\",\"2022-07-31\",\"2022-08-30\"],\"8\":[\"2022-01-02\",\"2022-02-01\",\"2022-03-03\",\"2022-04-02\",\"2022-05-02\",\"2022-06-01\",\"2022-07-01\",\"2022-07-31\",\"2022-08-30\"],\"9\":[\"2022-01-02\",\"2022-02-01\",\"2022-03-03\",\"2022-04-02\",\"2022-05-02\",\"2022-06-01\",\"2022-07-01\",\"2022-07-31\",\"2022-08-30\"],\"10\":[\"2022-01-02\",\"2022-02-01\",\"2022-03-03\",\"2022-04-02\",\"2022-05-02\",\"2022-06-01\",\"2022-07-01\",\"2022-07-31\",\"2022-08-30\"],\"11\":[\"2022-01-02\",\"2022-02-01\",\"2022-03-03\",\"2022-04-02\",\"2022-05-02\",\"2022-06-01\",\"2022-07-01\",\"2022-07-31\",\"2022-08-30\"],\"12\":[\"2022-01-02\",\"2022-02-01\",\"2022-03-03\",\"2022-04-02\",\"2022-05-02\",\"2022-06-01\",\"2022-07-01\",\"2022-07-31\",\"2022-08-30\"],\"13\":[\"2022-01-02\",\"2022-02-01\",\"2022-03-03\",\"2022-04-02\",\"2022-05-02\",\"2022-06-01\",\"2022-07-01\",\"2022-07-31\",\"2022-08-30\"],\"14\":[\"2022-01-02\",\"2022-02-01\",\"2022-03-03\",\"2022-04-02\",\"2022-05-02\",\"2022-06-01\",\"2022-07-01\",\"2022-07-31\",\"2022-08-30\"],\"15\":[\"2022-01-02\",\"2022-02-01\",\"2022-03-03\",\"2022-04-02\",\"2022-05-02\",\"2022-06-01\",\"2022-07-01\",\"2022-07-31\",\"2022-08-30\"],\"16\":[\"2022-01-02\",\"2022-02-01\",\"2022-03-03\",\"2022-04-02\",\"2022-05-02\",\"2022-06-01\",\"2022-07-01\",\"2022-07-31\",\"2022-08-30\"],\"17\":[\"2022-01-02\",\"2022-02-01\",\"2022-03-03\",\"2022-04-02\",\"2022-05-02\",\"2022-06-01\",\"2022-07-01\",\"2022-07-31\",\"2022-08-30\"],\"18\":[\"2022-01-02\",\"2022-02-01\",\"2022-03-03\",\"2022-04-02\",\"2022-05-02\",\"2022-06-01\",\"2022-07-01\",\"2022-07-31\",\"2022-08-30\"],\"19\":[\"2022-01-02\",\"2022-02-01\",\"2022-03-03\",\"2022-04-02\",\"2022-05-02\",\"2022-06-01\",\"2022-07-01\",\"2022-07-31\",\"2022-08-30\"]},\"prediction\":{\"0\":[1.2794697285],\"1\":[36.4859237671],\"2\":[6.6885180473],\"3\":[4.1868600845],\"4\":[30.368560791],\"5\":[6.1706056595],\"6\":[7.4869661331],\"7\":[20.0903015137],\"8\":[40.6195449829],\"9\":[60.9800415039],\"10\":[23.2625217438],\"11\":[9.6150989532],\"12\":[10.2471780777],\"13\":[7.6337714195],\"14\":[16.7418518066],\"15\":[83.3636016846],\"16\":[7.8064308167],\"17\":[5.9529442787],\"18\":[50.3850898743],\"19\":[73.3558959961]},\"predictionDates\":{\"0\":[\"2022-09-29\"],\"1\":[\"2022-09-29\"],\"2\":[\"2022-09-29\"],\"3\":[\"2022-09-29\"],\"4\":[\"2022-09-29\"],\"5\":[\"2022-09-29\"],\"6\":[\"2022-09-29\"],\"7\":[\"2022-09-29\"],\"8\":[\"2022-09-29\"],\"9\":[\"2022-09-29\"],\"10\":[\"2022-09-29\"],\"11\":[\"2022-09-29\"],\"12\":[\"2022-09-29\"],\"13\":[\"2022-09-29\"],\"14\":[\"2022-09-29\"],\"15\":[\"2022-09-29\"],\"16\":[\"2022-09-29\"],\"17\":[\"2022-09-29\"],\"18\":[\"2022-09-29\"],\"19\":[\"2022-09-29\"]},\"skills\":{\"0\":[{\"name\":\"Python\",\"percentage\":86.02},{\"name\":\"Machine Learning\",\"percentage\":82.15},{\"name\":\"Tensorflow\",\"percentage\":70.54},{\"name\":\"Pytorch\",\"percentage\":55.27},{\"name\":\"AWS\",\"percentage\":35.91},{\"name\":\"Deep Learning\",\"percentage\":34.84},{\"name\":\"Java\",\"percentage\":30.54},{\"name\":\"Azure\",\"percentage\":29.68},{\"name\":\"Scala\",\"percentage\":26.02},{\"name\":\"Data Preparation\",\"percentage\":25.81},{\"name\":\"Cloud Computing\",\"percentage\":23.01},{\"name\":\"Spark\",\"percentage\":22.8},{\"name\":\"Scikitlearn\",\"percentage\":22.58},{\"name\":\"Numpy\",\"percentage\":21.72},{\"name\":\"Pandas\",\"percentage\":21.51}],\"1\":[{\"name\":\"AWS\",\"percentage\":44.05},{\"name\":\"Project Management\",\"percentage\":34.77},{\"name\":\"Data Analysis\",\"percentage\":33.18},{\"name\":\"Communication\",\"percentage\":30.83},{\"name\":\"SQL\",\"percentage\":23.76},{\"name\":\"Analytical Skills\",\"percentage\":20.41},{\"name\":\"Requirements Gathering\",\"percentage\":17.55},{\"name\":\"Problem Solving\",\"percentage\":17.43},{\"name\":\"Communication Skills\",\"percentage\":16.71},{\"name\":\"Teamwork\",\"percentage\":15.0},{\"name\":\"Agile\",\"percentage\":14.84},{\"name\":\"Business Analyst\",\"percentage\":12.32},{\"name\":\"Problem-solving\",\"percentage\":10.7},{\"name\":\"Stakeholder Management\",\"percentage\":10.65},{\"name\":\"Documentation\",\"percentage\":10.61}],\"2\":[{\"name\":\"AWS\",\"percentage\":47.91},{\"name\":\"Python\",\"percentage\":44.87},{\"name\":\"Terraform\",\"percentage\":39.54},{\"name\":\"Azure\",\"percentage\":39.16},{\"name\":\"Kubernetes\",\"percentage\":35.36},{\"name\":\"Docker\",\"percentage\":27},{\"name\":\"Devops\",\"percentage\":24.33},{\"name\":\"Powershell\",\"percentage\":22.81},{\"name\":\"Cloud Computing\",\"percentage\":21.29},{\"name\":\"Linux\",\"percentage\":19.39},{\"name\":\"Cloud Engineering\",\"percentage\":17.87},{\"name\":\"Networking\",\"percentage\":17.87},{\"name\":\"GcP\",\"percentage\":17.87},{\"name\":\"Java\",\"percentage\":17.49},{\"name\":\"Jenkins\",\"percentage\":16.73}],\"3\":[{\"name\":\"Incident Rensponse\",\"percentage\":42.39},{\"name\":\"Cyber Security\",\"percentage\":38.04},{\"name\":\"Network Security\",\"percentage\":18.48},{\"name\":\"Cybersecurity\",\"percentage\":17.39},{\"name\":\"Information Security\",\"percentage\":16.3},{\"name\":\"Security Operations\",\"percentage\":16.3},{\"name\":\"Windows\",\"percentage\":14.13},{\"name\":\"Penetration Testing\",\"percentage\":14.13},{\"name\":\"Linux\",\"percentage\":14.13},{\"name\":\"Threat Hunting\",\"percentage\":14.13},{\"name\":\"Vulnerability Management\",\"percentage\":14.13},{\"name\":\"Written Communication\",\"percentage\":11.96},{\"name\":\"Risk Management\",\"percentage\":11.96},{\"name\":\"Firewalls\",\"percentage\":10.87},{\"name\":\"Risk Assesment\",\"percentage\":10.87}],\"4\":[{\"name\":\"Python\",\"percentage\":74.33},{\"name\":\"SQL\",\"percentage\":63.83},{\"name\":\"Data Engineering\",\"percentage\":51.97},{\"name\":\"Spark\",\"percentage\":41.47},{\"name\":\"Java\",\"percentage\":38.22},{\"name\":\"AWS\",\"percentage\":36.91},{\"name\":\"Scala\",\"percentage\":36.62},{\"name\":\"Snowflake\",\"percentage\":35.94},{\"name\":\"Data Warehousing\",\"percentage\":32.34},{\"name\":\"Hadoop\",\"percentage\":32.17},{\"name\":\"Kafka\",\"percentage\":30.69},{\"name\":\"Machine Learning\",\"percentage\":24.76},{\"name\":\"Redshift\",\"percentage\":23.96},{\"name\":\"Data Modelling\",\"percentage\":23.45},{\"name\":\"Nosql\",\"percentage\":23.33}],\"5\":[{\"name\":\"Python\",\"percentage\":84.43},{\"name\":\"Machine Learning\",\"percentage\":75.4},{\"name\":\"Data Science\",\"percentage\":68.97},{\"name\":\"SQL\",\"percentage\":60.32},{\"name\":\"R\",\"percentage\":49.2},{\"name\":\"Data Visualization\",\"percentage\":39.18},{\"name\":\"Statistics:\",\"percentage\":38.07},{\"name\":\"Data Analysis\",\"percentage\":31.77},{\"name\":\"Communication\",\"percentage\":25.22},{\"name\":\"Data Mining\",\"percentage\":22.74},{\"name\":\"Spark\",\"percentage\":22.62},{\"name\":\"Tableau\",\"percentage\":22.62},{\"name\":\"Computer Science\",\"percentage\":18.67},{\"name\":\"Tensorflow\",\"percentage\":17.8},{\"name\":\"AWS\",\"percentage\":17.8}],\"6\":[{\"name\":\"SQL\",\"percentage\":41.77},{\"name\":\"Database Administration\",\"percentage\":39.56},{\"name\":\"SQL Server\",\"percentage\":24.68},{\"name\":\"Oracle\",\"percentage\":24.05},{\"name\":\"Performance Tuning\",\"percentage\":19.62},{\"name\":\"Linux\",\"percentage\":18.67},{\"name\":\"Disaster Recovery\",\"percentage\":17.41},{\"name\":\"Database Security\",\"percentage\":17.09},{\"name\":\"Troubleshooting\",\"percentage\":17.09},{\"name\":\"Database Design\",\"percentage\":15.19},{\"name\":\"Data Modeling\",\"percentage\":14.56},{\"name\":\"AWS\",\"percentage\":14.56},{\"name\":\"Python\",\"percentage\":13.92},{\"name\":\"Mysql\",\"percentage\":12.97},{\"name\":\"Communication Skils\",\"percentage\":12.03}],\"7\":[{\"name\":\"Devops\",\"percentage\":67.46},{\"name\":\"Kubernetes\",\"percentage\":63.58},{\"name\":\"Python\",\"percentage\":62.93},{\"name\":\"Terraform\",\"percentage\":59.48},{\"name\":\"AWS\",\"percentage\":48.49},{\"name\":\"Docker\",\"percentage\":47.41},{\"name\":\"Ansible\",\"percentage\":46.98},{\"name\":\"Jenkins\",\"percentage\":42.46},{\"name\":\"Bash\",\"percentage\":34.48},{\"name\":\"Automation\",\"percentage\":32.76},{\"name\":\"GIT\",\"percentage\":31.47},{\"name\":\"CI\\\\/CD\",\"percentage\":27.16},{\"name\":\"Linux\",\"percentage\":26.29},{\"name\":\"Azure\",\"percentage\":23.92},{\"name\":\"Monitoring\",\"percentage\":22.2}],\"8\":[{\"name\":\"Communication\",\"percentage\":34.7},{\"name\":\"Customer Service\",\"percentage\":33.09},{\"name\":\"Sales\",\"percentage\":31.86},{\"name\":\"Communication Skils\",\"percentage\":18.16},{\"name\":\"Teamwork\",\"percentage\":17.52},{\"name\":\"Time Management\",\"percentage\":14.48},{\"name\":\"Problem Solving\",\"percentage\":13.89},{\"name\":\"Project Management\",\"percentage\":12.77},{\"name\":\"Problemsolving\",\"percentage\":11.24},{\"name\":\"Attention To Detail\",\"percentage\":10.19},{\"name\":\"Leadership\",\"percentage\":9.46},{\"name\":\"Microsoft Office Suite\",\"percentage\":9.4},{\"name\":\"Negotiation\",\"percentage\":9.31},{\"name\":\"Data Analysis\",\"percentage\":8.82},{\"name\":\"Interpersonal Skills\",\"percentage\":7.93}],\"9\":[{\"name\":\"Communication\",\"percentage\":38.74},{\"name\":\"Leadership\",\"percentage\":33.81},{\"name\":\"Accounting\",\"percentage\":22.25},{\"name\":\"Nursing\",\"percentage\":18.37},{\"name\":\"Teamwork\",\"percentage\":18.06},{\"name\":\"Project Management\",\"percentage\":17.98},{\"name\":\"Audit\",\"percentage\":14.31},{\"name\":\"Problem Solving\",\"percentage\":14.18},{\"name\":\"Risk Management\",\"percentage\":13.7},{\"name\":\"Auditing\",\"percentage\":13.66},{\"name\":\"Communication Skills\",\"percentage\":13.48},{\"name\":\"Problemsolving\",\"percentage\":12.78},{\"name\":\"Analytical Skills\",\"percentage\":12.22},{\"name\":\"Time Management\",\"percentage\":11.21},{\"name\":\"Attention To Detail\",\"percentage\":11.17}],\"10\":[{\"name\":\"Project Management\",\"percentage\":66.07},{\"name\":\"Risk Management\",\"percentage\":39.29},{\"name\":\"Communication\",\"percentage\":35.2},{\"name\":\"Leadership\",\"percentage\":23.98},{\"name\":\"It Project Management\",\"percentage\":22.96},{\"name\":\"Stakeholder Management\",\"percentage\":20.15},{\"name\":\"Problem Solving\",\"percentage\":18.37},{\"name\":\"Project Planning\",\"percentage\":17.86},{\"name\":\"Change Management\",\"percentage\":17.6},{\"name\":\"PMP Cerification\",\"percentage\":17.09},{\"name\":\"Communication Skills\",\"percentage\":17.09},{\"name\":\"Agile\",\"percentage\":16.84},{\"name\":\"Bachelor\\'s Degree\",\"percentage\":15.31},{\"name\":\"Analytical Skills\",\"percentage\":15.31},{\"name\":\"Time Management\",\"percentage\":14.54}],\"11\":[{\"name\":\"Troubleshooting\",\"percentage\":55.7},{\"name\":\"It Support\",\"percentage\":50.63},{\"name\":\"Customer Service\",\"percentage\":34.18},{\"name\":\"Problemsolving\",\"percentage\":32.91},{\"name\":\"Active Directory\",\"percentage\":30.38},{\"name\":\"Communication\",\"percentage\":20.11},{\"name\":\"Communication Skills\",\"percentage\":26.58},{\"name\":\"Technical Support\",\"percentage\":25.32},{\"name\":\"Teamwork\",\"percentage\":22.78},{\"name\":\"Windows\",\"percentage\":21.52},{\"name\":\"Microsoft 365\",\"percentage\":16.46},{\"name\":\"Computer Science\",\"percentage\":16.46},{\"name\":\"Analytical Skills\",\"percentage\":15.19},{\"name\":\"Azure\",\"percentage\":15.19}],\"12\":[{\"name\":\"Risk Management Framework (rmf)\",\"percentage\":33.9},{\"name\":\"Cybersecurity\",\"percentage\":30.51},{\"name\":\"Cyber Security\",\"percentage\":18.64},{\"name\":\"Incident Rensponse\",\"percentage\":18.64},{\"name\":\"Information Security\",\"percentage\":16.95},{\"name\":\"Risk Management\",\"percentage\":16.95},{\"name\":\"RMF\",\"percentage\":16.95},{\"name\":\"Information Systems\",\"percentage\":13.56},{\"name\":\"DOD Directive 8570.01m\",\"percentage\":11.86},{\"name\":\"System Security Plans\",\"percentage\":11.86},{\"name\":\"Information Security Security\",\"percentage\":11.86},{\"name\":\"Joint Special Access Program Implementation\",\"percentage\":11.86},{\"name\":\"Network Security\",\"percentage\":11.86},{\"name\":\"Configuration Management (cm)\",\"percentage\":11.86},{\"name\":\"Risk Management Framework\",\"percentage\":11.86}],\"13\":[{\"name\":\"Network Administration\",\"percentage\":58.12},{\"name\":\"Troubleshooting\",\"percentage\":25.9},{\"name\":\"Network Security\",\"percentage\":32.48},{\"name\":\"Network Troubleshooting\",\"percentage\":20.51},{\"name\":\"Firewalls\",\"percentage\":19.66},{\"name\":\"Ccna\",\"percentage\":19.66},{\"name\":\"Active Directory\",\"percentage\":18.8},{\"name\":\"Communication Skills\",\"percentage\":17.09},{\"name\":\"Project Management\",\"percentage\":15.38},{\"name\":\"Cisco\",\"percentage\":15.38},{\"name\":\"Network Monitoring\",\"percentage\":14.53},{\"name\":\"Routers\",\"percentage\":14.53},{\"name\":\"Communication\",\"percentage\":14.53},{\"name\":\"Vmware\",\"percentage\":13.68},{\"name\":\"BGP\",\"percentage\":13.68}],\"14\":[{\"name\":\"Test Cases\",\"percentage\":37.14},{\"name\":\"Teamwork\",\"percentage\":28.57},{\"name\":\"IOS\",\"percentage\":28.57},{\"name\":\"Proofreading\",\"percentage\":27.14},{\"name\":\"Test Scripts\",\"percentage\":27.14},{\"name\":\"Translation\",\"percentage\":25.71},{\"name\":\"MAC 0S X\",\"percentage\":25.71},{\"name\":\"BUG Tracking Systems\",\"percentage\":24.29},{\"name\":\"Problemsolving\",\"percentage\":21.43},{\"name\":\"Jira\",\"percentage\":20},{\"name\":\"QA Testing\",\"percentage\":18.57},{\"name\":\"SQL\",\"percentage\":18.57},{\"name\":\"Linguistic Skills\",\"percentage\":17.14},{\"name\":\"Fastpaced Environment\",\"percentage\":17.14},{\"name\":\"Quality Assurance:\",\"percentage\":15.71}],\"15\":[{\"name\":\"Python\",\"percentage\":42.69},{\"name\":\"Java\",\"percentage\":42.48},{\"name\":\"Software Engineering\",\"percentage\":37.22},{\"name\":\"AWS\",\"percentage\":33.29},{\"name\":\"SQL\",\"percentage\":27.77},{\"name\":\"Kubernetes\",\"percentage\":24.99},{\"name\":\"Docker\",\"percentage\":24.67},{\"name\":\"Javascript\",\"percentage\":24.34},{\"name\":\"Software Development\",\"percentage\":21.31},{\"name\":\"Agile.\",\"percentage\":21.3},{\"name\":\"C++\",\"percentage\":18.96},{\"name\":\"Go\",\"percentage\":17.59},{\"name\":\"Typescript\",\"percentage\":15.99},{\"name\":\"Communication\",\"percentage\":15.3},{\"name\":\"Cloud Computing\",\"percentage\":15.23}],\"16\":[{\"name\":\"Project Management\",\"percentage\":32.73},{\"name\":\"Communication\",\"percentage\":24.42},{\"name\":\"SQL\",\"percentage\":23.62},{\"name\":\"Data Analysis\",\"percentage\":21.56},{\"name\":\"Communication Skills\",\"percentage\":17.83},{\"name\":\"Problem Solving\",\"percentage\":17.23},{\"name\":\"Troubleshooting\",\"percentage\":16.77},{\"name\":\"Analytical Skills\",\"percentage\":16.7},{\"name\":\"Business Analysis\",\"percentage\":14.5},{\"name\":\"Bachelor\\'s Degree\",\"percentage\":12.44},{\"name\":\"Teamwork\",\"percentage\":12.04},{\"name\":\"Requirements Gathering\",\"percentage\":11.98},{\"name\":\"Interpersonal Skills\",\"percentage\":11.84},{\"name\":\"Problemsolving\",\"percentage\":11.58},{\"name\":\"Business Systems Analysis\",\"percentage\":10.18}],\"17\":[{\"name\":\"Systems Architecture\",\"percentage\":19.58},{\"name\":\"Systems Engineering\",\"percentage\":18.52},{\"name\":\"Python\",\"percentage\":13.76},{\"name\":\"Project Management\",\"percentage\":12.7},{\"name\":\"Computer Science\",\"percentage\":11.64},{\"name\":\"Software Development\",\"percentage\":11.64},{\"name\":\"Engineering\",\"percentage\":10.58},{\"name\":\"Communication\",\"percentage\":10.58},{\"name\":\"Bachelor\\'s Degree\",\"percentage\":10.58},{\"name\":\"System Architecture\",\"percentage\":10.58},{\"name\":\"Linux\",\"percentage\":10.05},{\"name\":\"Communication Skills\",\"percentage\":10.05},{\"name\":\"Analytical Skills\",\"percentage\":10.05},{\"name\":\"Software Engineering\",\"percentage\":9.52},{\"name\":\"Java\",\"percentage\":9.52}],\"18\":[{\"name\":\"Troubleshooting\",\"percentage\":56.25},{\"name\":\"Technical Support\",\"percentage\":42.19},{\"name\":\"Communication\",\"percentage\":28.13},{\"name\":\"Customer Service\",\"percentage\":23.44},{\"name\":\"Linux\",\"percentage\":23.44},{\"name\":\"Problem Solving\",\"percentage\":20.31},{\"name\":\"Networking\",\"percentage\":18.75},{\"name\":\"Communication Skills\",\"percentage\":18.75},{\"name\":\"Problemsolving\",\"percentage\":18.75},{\"name\":\"Teamwork\",\"percentage\":17.19},{\"name\":\"AWS\",\"percentage\":14.06},{\"name\":\"Project Management\",\"percentage\":14.06},{\"name\":\"SQL\",\"percentage\":14.06},{\"name\":\"Analytical Skills\",\"percentage\":14.06},{\"name\":\"Root Cause Analysis\",\"percentage\":12.5}],\"19\":[{\"name\":\"Javascript\",\"percentage\":63.5},{\"name\":\"CSS\",\"percentage\":44.0},{\"name\":\"Html\",\"percentage\":41.5},{\"name\":\"WEB Development\",\"percentage\":35.5},{\"name\":\"PHP\",\"percentage\":26.5},{\"name\":\"SQL\",\"percentage\":22.0},{\"name\":\"GIt\",\"percentage\":22.0},{\"name\":\"React\",\"percentage\":19.5},{\"name\":\"Communication\",\"percentage\":19.5},{\"name\":\"Html5\",\"percentage\":17.0},{\"name\":\"C#\",\"percentage\":16.5},{\"name\":\"Java\",\"percentage\":16.0},{\"name\":\"Angular\",\"percentage\":15.0},{\"name\":\"AWS\",\"percentage\":14.5}]},\"monthly_growth (%)\":{\"0\":[100,23,78,31,-75,31,162,-69],\"1\":[37,59,11,4,-8,-11,44,-16],\"2\":[-4,2,26,5,-10,-30,41,15],\"3\":[72,-7,46,-38,57,10,-1,-10],\"4\":[42,47,10,5,-22,42,17,-32],\"5\":[-4,99,-5,42,-1,-15,-23,-6],\"6\":[86,36,-16,14,23,61,-4,-22],\"7\":[-13,68,18,-19,19,22,6,2],\"8\":[47,12,14,-4,13,-13,11,12],\"9\":[17,39,23,4,6,19,-12,-6],\"10\":[42,20,10,3,-5,16,12,5],\"11\":[69,9,0,-19,21,13,-8,18],\"12\":[49,24,-8,-7,24,-11,23,-11],\"13\":[22,45,7,8,16,-17,12,-18],\"14\":[24,41,45,-46,11,46,-5,-8],\"15\":[19,42,15,-11,12,7,-7,-11],\"16\":[7,18,45,-3,-4,1,-3,12],\"17\":[49,27,22,13,7,-1,-27,36],\"18\":[9,55,-6,-5,1,42,3,-1],\"19\":[17,35,5,-19,31,-1,9,-4]},\"avg_monthly_growth (%)\":{\"0\":35.125,\"1\":15.0,\"2\":5.625,\"3\":16.125,\"4\":13.625,\"5\":10.875,\"6\":22.25,\"7\":12.875,\"8\":11.5,\"9\":11.25,\"10\":12.875,\"11\":12.875,\"12\":10.375,\"13\":9.375,\"14\":13.5,\"15\":8.25,\"16\":9.125,\"17\":15.75,\"18\":12.25,\"19\":9.125},\"growth_dates\":{\"0\":[\"2022-02-01\",\"2022-03-03\",\"2022-04-02\",\"2022-05-02\",\"2022-06-01\",\"2022-07-01\",\"2022-07-31\",\"2022-08-30\"],\"1\":[\"2022-02-01\",\"2022-03-03\",\"2022-04-02\",\"2022-05-02\",\"2022-06-01\",\"2022-07-01\",\"2022-07-31\",\"2022-08-30\"],\"2\":[\"2022-02-01\",\"2022-03-03\",\"2022-04-02\",\"2022-05-02\",\"2022-06-01\",\"2022-07-01\",\"2022-07-31\",\"2022-08-30\"],\"3\":[\"2022-02-01\",\"2022-03-03\",\"2022-04-02\",\"2022-05-02\",\"2022-06-01\",\"2022-07-01\",\"2022-07-31\",\"2022-08-30\"],\"4\":[\"2022-02-01\",\"2022-03-03\",\"2022-04-02\",\"2022-05-02\",\"2022-06-01\",\"2022-07-01\",\"2022-07-31\",\"2022-08-30\"],\"5\":[\"2022-02-01\",\"2022-03-03\",\"2022-04-02\",\"2022-05-02\",\"2022-06-01\",\"2022-07-01\",\"2022-07-31\",\"2022-08-30\"],\"6\":[\"2022-02-01\",\"2022-03-03\",\"2022-04-02\",\"2022-05-02\",\"2022-06-01\",\"2022-07-01\",\"2022-07-31\",\"2022-08-30\"],\"7\":[\"2022-02-01\",\"2022-03-03\",\"2022-04-02\",\"2022-05-02\",\"2022-06-01\",\"2022-07-01\",\"2022-07-31\",\"2022-08-30\"],\"8\":[\"2022-02-01\",\"2022-03-03\",\"2022-04-02\",\"2022-05-02\",\"2022-06-01\",\"2022-07-01\",\"2022-07-31\",\"2022-08-30\"],\"9\":[\"2022-02-01\",\"2022-03-03\",\"2022-04-02\",\"2022-05-02\",\"2022-06-01\",\"2022-07-01\",\"2022-07-31\",\"2022-08-30\"],\"10\":[\"2022-02-01\",\"2022-03-03\",\"2022-04-02\",\"2022-05-02\",\"2022-06-01\",\"2022-07-01\",\"2022-07-31\",\"2022-08-30\"],\"11\":[\"2022-02-01\",\"2022-03-03\",\"2022-04-02\",\"2022-05-02\",\"2022-06-01\",\"2022-07-01\",\"2022-07-31\",\"2022-08-30\"],\"12\":[\"2022-02-01\",\"2022-03-03\",\"2022-04-02\",\"2022-05-02\",\"2022-06-01\",\"2022-07-01\",\"2022-07-31\",\"2022-08-30\"],\"13\":[\"2022-02-01\",\"2022-03-03\",\"2022-04-02\",\"2022-05-02\",\"2022-06-01\",\"2022-07-01\",\"2022-07-31\",\"2022-08-30\"],\"14\":[\"2022-02-01\",\"2022-03-03\",\"2022-04-02\",\"2022-05-02\",\"2022-06-01\",\"2022-07-01\",\"2022-07-31\",\"2022-08-30\"],\"15\":[\"2022-02-01\",\"2022-03-03\",\"2022-04-02\",\"2022-05-02\",\"2022-06-01\",\"2022-07-01\",\"2022-07-31\",\"2022-08-30\"],\"16\":[\"2022-02-01\",\"2022-03-03\",\"2022-04-02\",\"2022-05-02\",\"2022-06-01\",\"2022-07-01\",\"2022-07-31\",\"2022-08-30\"],\"17\":[\"2022-02-01\",\"2022-03-03\",\"2022-04-02\",\"2022-05-02\",\"2022-06-01\",\"2022-07-01\",\"2022-07-31\",\"2022-08-30\"],\"18\":[\"2022-02-01\",\"2022-03-03\",\"2022-04-02\",\"2022-05-02\",\"2022-06-01\",\"2022-07-01\",\"2022-07-31\",\"2022-08-30\"],\"19\":[\"2022-02-01\",\"2022-03-03\",\"2022-04-02\",\"2022-05-02\",\"2022-06-01\",\"2022-07-01\",\"2022-07-31\",\"2022-08-30\"]},\"expected_growth (%)\":{\"0\":125.7887756123,\"1\":23.2632559699,\"2\":8.4624548216,\"3\":29.4905180784,\"4\":86.6919720759,\"5\":-34.3552589417,\"6\":43.9801179446,\"7\":15.0208101928,\"8\":-4.8722599932,\"9\":45.7690235153,\"10\":5.2602793836,\"11\":-24.4887516761,\"12\":16.8879628635,\"13\":0.8868469541,\"14\":19.0179038387,\"15\":10.7086343753,\"16\":-7.43362668,\"17\":-49.975258162,\"18\":18.5531526453,\"19\":15.0379968574}}'}"
      ]
     },
     "execution_count": 58,
     "metadata": {},
     "output_type": "execute_result"
    }
   ],
   "source": [
    "{'jobs': df.to_json()}"
   ]
  }
 ],
 "metadata": {
  "kernelspec": {
   "display_name": "machine_learning",
   "language": "python",
   "name": "python3"
  },
  "language_info": {
   "codemirror_mode": {
    "name": "ipython",
    "version": 3
   },
   "file_extension": ".py",
   "mimetype": "text/x-python",
   "name": "python",
   "nbconvert_exporter": "python",
   "pygments_lexer": "ipython3",
   "version": "3.12.4"
  }
 },
 "nbformat": 4,
 "nbformat_minor": 2
}
